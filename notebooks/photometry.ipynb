{
 "cells": [
  {
   "cell_type": "markdown",
   "metadata": {},
   "source": [
    "# Photometry Tutorial\n",
    "\n",
    "TODO: Flesh out this notebook with more explanations, assumptions, things to keep in mind,\n",
    "etc.\n"
   ]
  },
  {
   "cell_type": "code",
   "execution_count": 1,
   "metadata": {},
   "outputs": [
    {
     "name": "stdout",
     "output_type": "stream",
     "text": [
      "/arc/home/IsaacCheng/CASTOR/ETC/notebooks\n"
     ]
    }
   ],
   "source": [
    "# I only need the following line since I'm using remote VS Code\n",
    "%cd \"/arc/home/IsaacCheng/CASTOR/ETC/notebooks\"\n",
    "\n",
    "import numpy as np\n",
    "import pandas as pd\n",
    "import astropy.units as u\n",
    "import matplotlib.pyplot as plt\n",
    "from IPython.core.display import display\n",
    "\n",
    "# Import my own modules\n",
    "import sys\n",
    "sys.path.append(\"../\")\n",
    "from castor_etc.photometry import Photometry\n",
    "from castor_etc.telescope import Telescope\n",
    "from castor_etc.sources import PointSource, ExtendedSource, Profiles\n",
    "from castor_etc.background import Background\n",
    "from castor_etc import parameters as params\n",
    "from castor_etc.data.background import background_values\n",
    "\n",
    "from castor_etc import photometry as phot\n",
    "from castor_etc import sources as src"
   ]
  },
  {
   "cell_type": "markdown",
   "metadata": {},
   "source": [
    "## Review Red Leak Fractions\n",
    "\n",
    "Red leak fraction is defined as the ratio of electron/s longward of a certain wavelength\n",
    "to the electron/s within a passband (electron/s dependent on the source spectrum and\n",
    "telescope passband response).\n",
    "\n",
    "The red leak fractions below are consistent with those produced previously. Double check\n",
    "UV-band at 3000K in particular (note that increasing the redleak threshold does not affect\n",
    "the redleak fraction much).\n"
   ]
  },
  {
   "cell_type": "code",
   "execution_count": 11,
   "metadata": {},
   "outputs": [
    {
     "name": "stdout",
     "output_type": "stream",
     "text": [
      "INFO: Overwriting existing wavelengths/spectrum with new wavelengths/spectrum.\n",
      "INFO: Overwriting existing wavelengths/spectrum with new wavelengths/spectrum.\n",
      "INFO: Overwriting existing wavelengths/spectrum with new wavelengths/spectrum.\n",
      "INFO: Overwriting existing wavelengths/spectrum with new wavelengths/spectrum.\n",
      "INFO: Overwriting existing wavelengths/spectrum with new wavelengths/spectrum.\n",
      "INFO: Overwriting existing wavelengths/spectrum with new wavelengths/spectrum.\n",
      "INFO: Overwriting existing wavelengths/spectrum with new wavelengths/spectrum.\n",
      "INFO: Overwriting existing wavelengths/spectrum with new wavelengths/spectrum.\n",
      "INFO: Overwriting existing wavelengths/spectrum with new wavelengths/spectrum.\n"
     ]
    },
    {
     "data": {
      "text/html": [
       "<div>\n",
       "<style scoped>\n",
       "    .dataframe tbody tr th:only-of-type {\n",
       "        vertical-align: middle;\n",
       "    }\n",
       "\n",
       "    .dataframe tbody tr th {\n",
       "        vertical-align: top;\n",
       "    }\n",
       "\n",
       "    .dataframe thead th {\n",
       "        text-align: right;\n",
       "    }\n",
       "</style>\n",
       "<table border=\"1\" class=\"dataframe\">\n",
       "  <thead>\n",
       "    <tr style=\"text-align: right;\">\n",
       "      <th></th>\n",
       "      <th>3000</th>\n",
       "      <th>4000</th>\n",
       "      <th>5000</th>\n",
       "      <th>7000</th>\n",
       "      <th>10000</th>\n",
       "      <th>15000</th>\n",
       "      <th>20000</th>\n",
       "      <th>30000</th>\n",
       "      <th>40000</th>\n",
       "      <th>50000</th>\n",
       "    </tr>\n",
       "  </thead>\n",
       "  <tbody>\n",
       "    <tr>\n",
       "      <th>uv</th>\n",
       "      <td>2.993948e+00</td>\n",
       "      <td>3.637762e-01</td>\n",
       "      <td>1.005594e-01</td>\n",
       "      <td>2.210276e-02</td>\n",
       "      <td>6.771711e-03</td>\n",
       "      <td>2.650691e-03</td>\n",
       "      <td>1.672792e-03</td>\n",
       "      <td>1.079639e-03</td>\n",
       "      <td>8.799739e-04</td>\n",
       "      <td>7.832349e-04</td>\n",
       "    </tr>\n",
       "    <tr>\n",
       "      <th>u</th>\n",
       "      <td>1.800051e-05</td>\n",
       "      <td>6.234715e-06</td>\n",
       "      <td>3.240357e-06</td>\n",
       "      <td>1.515118e-06</td>\n",
       "      <td>8.616019e-07</td>\n",
       "      <td>5.686044e-07</td>\n",
       "      <td>4.693222e-07</td>\n",
       "      <td>3.934773e-07</td>\n",
       "      <td>3.628285e-07</td>\n",
       "      <td>3.464603e-07</td>\n",
       "    </tr>\n",
       "    <tr>\n",
       "      <th>g</th>\n",
       "      <td>1.612818e-11</td>\n",
       "      <td>1.120794e-11</td>\n",
       "      <td>8.845189e-12</td>\n",
       "      <td>6.659134e-12</td>\n",
       "      <td>5.374314e-12</td>\n",
       "      <td>4.585031e-12</td>\n",
       "      <td>4.258533e-12</td>\n",
       "      <td>3.976177e-12</td>\n",
       "      <td>3.851018e-12</td>\n",
       "      <td>3.780887e-12</td>\n",
       "    </tr>\n",
       "  </tbody>\n",
       "</table>\n",
       "</div>"
      ],
      "text/plain": [
       "           3000          4000          5000          7000          10000  \\\n",
       "uv  2.993948e+00  3.637762e-01  1.005594e-01  2.210276e-02  6.771711e-03   \n",
       "u   1.800051e-05  6.234715e-06  3.240357e-06  1.515118e-06  8.616019e-07   \n",
       "g   1.612818e-11  1.120794e-11  8.845189e-12  6.659134e-12  5.374314e-12   \n",
       "\n",
       "           15000         20000         30000         40000         50000  \n",
       "uv  2.650691e-03  1.672792e-03  1.079639e-03  8.799739e-04  7.832349e-04  \n",
       "u   5.686044e-07  4.693222e-07  3.934773e-07  3.628285e-07  3.464603e-07  \n",
       "g   4.585031e-12  4.258533e-12  3.976177e-12  3.851018e-12  3.780887e-12  "
      ]
     },
     "metadata": {},
     "output_type": "display_data"
    }
   ],
   "source": [
    "#\n",
    "# Create source\n",
    "#\n",
    "wavelengths = np.arange(0.1, 1.2, 0.001) * u.um\n",
    "bb_temps = [3000, 4000, 5000, 7000, 10000, 15000, 20000, 30000, 40000, 50000]  # kelvin\n",
    "redleak_fracs = dict.fromkeys(bb_temps)\n",
    "\n",
    "MyTelescope = Telescope(px_scale=0.1 * u.arcsec)\n",
    "MyBackground = Background()\n",
    "MySource = PointSource(src.Profiles.uniform(), angle=0.1 * u.arcsec)\n",
    "\n",
    "for temp in bb_temps:\n",
    "    MySource.generate_bb(temp, overwrite=True)  # (in erg/s/cm^2/A)\n",
    "    MyPhot = phot.Photometry(MyTelescope, MySource, MyBackground)\n",
    "    MyPhot.use_optimal_aperture(quiet=True)\n",
    "    redleak_fracs[temp] = MyPhot.calc_snr_or_t(snr=5)  # (now no longer returns the redleak fraction. Just for debugging)\n",
    "display(pd.DataFrame(redleak_fracs))"
   ]
  },
  {
   "cell_type": "markdown",
   "metadata": {},
   "source": [
    "## Point Source\n"
   ]
  },
  {
   "cell_type": "markdown",
   "metadata": {},
   "source": [
    "### Uniform Spectrum & No Redleak\n"
   ]
  },
  {
   "cell_type": "code",
   "execution_count": 2,
   "metadata": {},
   "outputs": [
    {
     "name": "stdout",
     "output_type": "stream",
     "text": [
      "INFO: passband_pivots and passband response files both provided. Will use user-supplied passband_pivots rather than calculating pivots.\n",
      "INFO: phot_zpts and passband response files both provided. Will use user-supplied phot_zpts rather than calculating zero-points.\n"
     ]
    },
    {
     "data": {
      "image/png": "[encoded data removed]",
      "text/plain": [
       "<Figure size 432x288 with 1 Axes>"
      ]
     },
     "metadata": {
      "needs_background": "light"
     },
     "output_type": "display_data"
    },
    {
     "data": {
      "image/png": "[encoded data removed]",
      "text/plain": [
       "<Figure size 432x288 with 2 Axes>"
      ]
     },
     "metadata": {
      "needs_background": "light"
     },
     "output_type": "display_data"
    },
    {
     "name": "stdout",
     "output_type": "stream",
     "text": [
      "Time required for uv-band 4.645012657325591\n",
      "SNR achieved in that time in uv-band 5.0\n",
      "\n",
      "Time required for u-band 2.989409894582009\n",
      "SNR achieved in that time in u-band 4.999999999999999\n",
      "\n",
      "Time required for g-band 2.8217155696775826\n",
      "SNR achieved in that time in g-band 5.0\n",
      "\n"
     ]
    }
   ],
   "source": [
    "#\n",
    "# Define telescope instance\n",
    "#\n",
    "MyTelescope = Telescope(\n",
    "    px_scale=0.1 * u.arcsec,\n",
    "    phot_zpts=params.PHOT_ZPTS,\n",
    "    passband_pivots=params.PASSBAND_PIVOTS,\n",
    ")\n",
    "#\n",
    "# Generate background object\n",
    "#\n",
    "MyBackground = Background(mags_per_sq_arcsec=background_values.SKY_BACKGROUND)\n",
    "MyBackground.add_geocoronal_emission(flux=\"avg\")\n",
    "#\n",
    "# Create source\n",
    "#\n",
    "flux_profile = Profiles.uniform()\n",
    "MySource = src.PointSource(flux_profile, angle=0.1 * u.arcsec)\n",
    "\n",
    "wavelengths = np.arange(0.1, 1.2, 0.001) * u.um\n",
    "MySource.generate_uniform(wavelengths=wavelengths, value=1.0)  # (in erg/s/cm^2/A)\n",
    "fig, ax = plt.subplots()\n",
    "ax.plot(MySource.wavelengths.value, MySource.spectrum, \"k\")\n",
    "ax.fill_between(MySource.wavelengths.value, MySource.spectrum, alpha=0.5)\n",
    "ax.set_xlabel(\"Wavelength [\\AA]\")\n",
    "ax.set_ylabel(r\"Un-Normalized Flux Density [$\\rm erg\\, s^{-1}\\, cm^{-2}\\,$\\AA$^{-1}$]\")\n",
    "ax.set_ylim(bottom=0)\n",
    "plt.show()\n",
    "\n",
    "_show_weights = True\n",
    "for band in MyTelescope.passbands:\n",
    "    MySource.norm_to_value(\n",
    "        22.0,\n",
    "        \"mag\",\n",
    "        passband_lims=MyTelescope.passband_limits[band],\n",
    "        pivot_wavelength=MyTelescope.passband_pivots[band],\n",
    "    )\n",
    "    MyPhot = Photometry(MyTelescope, MySource, MyBackground)\n",
    "    MyPhot.use_optimal_aperture(quiet=True)\n",
    "    if _show_weights:\n",
    "        MyPhot.show_source_weights(mark_source=False, source_markersize=4)\n",
    "        _show_weights = False  # only display once\n",
    "    result1 = MyPhot.calc_snr_or_t(snr=5, include_redleak=False)[band]\n",
    "    print(f\"Time required for {band}-band\", result1)\n",
    "    result2 = MyPhot.calc_snr_or_t(t=result1, include_redleak=False)[band]\n",
    "    print(f\"SNR achieved in that time in {band}-band\", result2)\n",
    "    print()\n"
   ]
  },
  {
   "cell_type": "markdown",
   "metadata": {},
   "source": [
    "### Blackbody Spectrum with Redleak\n",
    "\n",
    "Also automatically calculate photometric zero-points and passband pivot wavelengths.\n"
   ]
  },
  {
   "cell_type": "code",
   "execution_count": 3,
   "metadata": {},
   "outputs": [
    {
     "data": {
      "image/png": "[encoded data removed]",
      "text/plain": [
       "<Figure size 432x288 with 1 Axes>"
      ]
     },
     "metadata": {
      "needs_background": "light"
     },
     "output_type": "display_data"
    },
    {
     "data": {
      "image/png": "[encoded data removed]",
      "text/plain": [
       "<Figure size 432x288 with 2 Axes>"
      ]
     },
     "metadata": {
      "needs_background": "light"
     },
     "output_type": "display_data"
    },
    {
     "name": "stdout",
     "output_type": "stream",
     "text": [
      "Time required for uv-band 3.820224947724621\n",
      "SNR achieved in that time in uv-band 5.000000000000001\n",
      "\n",
      "Time required for u-band 3.5918451919598606\n",
      "SNR achieved in that time in u-band 5.0\n",
      "\n",
      "Time required for g-band 2.8583879884070753\n",
      "SNR achieved in that time in g-band 5.000000000000001\n",
      "\n"
     ]
    }
   ],
   "source": [
    "#\n",
    "# Define telescope instance\n",
    "#\n",
    "MyTelescope = Telescope()\n",
    "#\n",
    "# Generate background object\n",
    "#\n",
    "MyBackground = Background(mags_per_sq_arcsec=background_values.SKY_BACKGROUND)\n",
    "MyBackground.add_geocoronal_emission(flux=\"avg\")\n",
    "#\n",
    "# Create source\n",
    "#\n",
    "flux_profile = Profiles.uniform()\n",
    "MySource = src.PointSource(flux_profile, angle=0.1 * u.arcsec)\n",
    "\n",
    "wavelengths = np.arange(0.1, 1.2, 0.001) * u.um\n",
    "MySource.generate_bb(5500 * u.K)  # (in erg/s/cm^2/A)\n",
    "MySource.show_spectrum()\n",
    "\n",
    "_show_weights = True\n",
    "for band in MyTelescope.passbands:\n",
    "    MySource.norm_to_value(\n",
    "        22.0,\n",
    "        \"mag\",\n",
    "        passband_lims=MyTelescope.passband_limits[band],\n",
    "        pivot_wavelength=MyTelescope.passband_pivots[band],\n",
    "    )\n",
    "    MyPhot = Photometry(MyTelescope, MySource, MyBackground)\n",
    "    MyPhot.use_optimal_aperture(quiet=True)\n",
    "    if _show_weights:\n",
    "        MyPhot.show_source_weights(mark_source=False, source_markersize=4)\n",
    "        _show_weights = False  # only display once\n",
    "    result1 = MyPhot.calc_snr_or_t(snr=5, include_redleak=True)[band]\n",
    "    print(f\"Time required for {band}-band\", result1)\n",
    "    result2 = MyPhot.calc_snr_or_t(t=result1, include_redleak=True)[band]\n",
    "    print(f\"SNR achieved in that time in {band}-band\", result2)\n",
    "    print()\n"
   ]
  },
  {
   "cell_type": "markdown",
   "metadata": {},
   "source": [
    "## Extended Source\n"
   ]
  },
  {
   "cell_type": "markdown",
   "metadata": {},
   "source": [
    "### Galaxy\n",
    "\n",
    "This time, use sky background spectra instead of sky background magnitudes.\n",
    "\n",
    "(Still need to load galaxy spectra. Use BB for now)\n"
   ]
  },
  {
   "cell_type": "code",
   "execution_count": 4,
   "metadata": {},
   "outputs": [
    {
     "data": {
      "image/png": "[encoded data removed]",
      "text/plain": [
       "<Figure size 432x288 with 1 Axes>"
      ]
     },
     "metadata": {
      "needs_background": "light"
     },
     "output_type": "display_data"
    },
    {
     "data": {
      "image/png": "[encoded data removed]",
      "text/plain": [
       "<Figure size 432x288 with 2 Axes>"
      ]
     },
     "metadata": {
      "needs_background": "light"
     },
     "output_type": "display_data"
    },
    {
     "name": "stdout",
     "output_type": "stream",
     "text": [
      "Time required for uv-band 4244.175435292433\n",
      "SNR achieved in that time in uv-band 49.99999999999999\n",
      "\n",
      "Time required for u-band 5440.389218918314\n",
      "SNR achieved in that time in u-band 50.0\n",
      "\n",
      "Time required for g-band 8063.061526208839\n",
      "SNR achieved in that time in g-band 50.0\n",
      "\n"
     ]
    }
   ],
   "source": [
    "#\n",
    "# Define telescope instance\n",
    "#\n",
    "MyTelescope = Telescope()\n",
    "#\n",
    "# Generate background object\n",
    "#\n",
    "MyBackground = Background()\n",
    "MyBackground.add_geocoronal_emission(flux=\"avg\")\n",
    "#\n",
    "# Create source\n",
    "#\n",
    "flux_profile = Profiles.sersic(r_eff=2 * u.arcsec, n=1, e=0.4, angle=45)\n",
    "MySource = src.ExtendedSource(flux_profile, angle_a=4 * u.arcsec, angle_b=4 * u.arcsec)\n",
    "\n",
    "wavelengths = np.arange(0.1, 1.2, 0.001) * u.um\n",
    "MySource.generate_bb(5500 * u.K)  # (in erg/s/cm^2/A)\n",
    "MySource.show_spectrum()\n",
    "\n",
    "_show_weights = True\n",
    "for band in MyTelescope.passbands:\n",
    "    MySource.norm_to_value(\n",
    "        22.0,\n",
    "        \"mag\",\n",
    "        passband_lims=MyTelescope.passband_limits[band],\n",
    "        pivot_wavelength=MyTelescope.passband_pivots[band],\n",
    "    )\n",
    "    MyPhot = Photometry(MyTelescope, MySource, MyBackground)\n",
    "    MyPhot.use_elliptical_aperture(\n",
    "        a=2 * u.arcsec, b=1.4 * u.arcsec, center=[0, 0] * u.arcsec, rotation=45\n",
    "    )\n",
    "    if _show_weights:\n",
    "        MyPhot.show_source_weights(mark_source=True, source_markersize=4)\n",
    "        _show_weights = False  # only display once\n",
    "    result1 = MyPhot.calc_snr_or_t(snr=50, include_redleak=True)[band]\n",
    "    print(f\"Time required for {band}-band\", result1)\n",
    "    result2 = MyPhot.calc_snr_or_t(t=result1, include_redleak=True)[band]\n",
    "    print(f\"SNR achieved in that time in {band}-band\", result2)\n",
    "    print()\n"
   ]
  },
  {
   "cell_type": "code",
   "execution_count": null,
   "metadata": {},
   "outputs": [],
   "source": []
  }
 ],
 "metadata": {
  "interpreter": {
   "hash": "b2c4d6c192b9f8c722057ba9cce441587fedb0afbceeb07e734ab7f6dd3a513b"
  },
  "kernelspec": {
   "display_name": "Python 3.9.7 ('base')",
   "language": "python",
   "name": "python3"
  },
  "language_info": {
   "codemirror_mode": {
    "name": "ipython",
    "version": 3
   },
   "file_extension": ".py",
   "mimetype": "text/x-python",
   "name": "python",
   "nbconvert_exporter": "python",
   "pygments_lexer": "ipython3",
   "version": "3.9.7"
  },
  "orig_nbformat": 4
 },
 "nbformat": 4,
 "nbformat_minor": 2
}
