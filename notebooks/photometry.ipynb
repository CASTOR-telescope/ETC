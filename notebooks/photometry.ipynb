{
 "cells": [
  {
   "cell_type": "markdown",
   "metadata": {},
   "source": [
    "# Photometry Tutorial\n",
    "\n",
    "TODO: Flesh out this notebook with more explanations, assumptions, things to keep in mind,\n",
    "etc.\n",
    "\n",
    "RED LEAK IS NOT IMPLEMENTED YET!"
   ]
  },
  {
   "cell_type": "code",
   "execution_count": 1,
   "metadata": {},
   "outputs": [
    {
     "name": "stdout",
     "output_type": "stream",
     "text": [
      "/arc/home/IsaacCheng/CASTOR/ETC/notebooks\n"
     ]
    }
   ],
   "source": [
    "# I only need the following line since I'm using remote VS Code\n",
    "%cd \"/arc/home/IsaacCheng/CASTOR/ETC/notebooks\"\n",
    "\n",
    "import numpy as np\n",
    "import pandas as pd\n",
    "import astropy.units as u\n",
    "import matplotlib as mpl\n",
    "import matplotlib.pyplot as plt\n",
    "import seaborn as sns\n",
    "from IPython.core.display import display\n",
    "\n",
    "# Import my own modules\n",
    "import sys\n",
    "sys.path.append(\"../\")\n",
    "from castor_etc.photometry import Photometry\n",
    "from castor_etc.telescope import Telescope\n",
    "from castor_etc.sources import PointSource, ExtendedSource, Profiles\n",
    "from castor_etc.background import Background\n",
    "from castor_etc import parameters as params\n",
    "from castor_etc.data.background import background_values\n",
    "\n",
    "import importlib\n",
    "from castor_etc import photometry as phot\n",
    "from castor_etc import sources as src"
   ]
  },
  {
   "cell_type": "code",
   "execution_count": 11,
   "metadata": {},
   "outputs": [
    {
     "name": "stdout",
     "output_type": "stream",
     "text": [
      "INFO: Overwriting existing wavelengths/spectrum with new wavelengths/spectrum.\n",
      "INFO: Overwriting existing wavelengths/spectrum with new wavelengths/spectrum.\n",
      "INFO: Overwriting existing wavelengths/spectrum with new wavelengths/spectrum.\n",
      "INFO: Overwriting existing wavelengths/spectrum with new wavelengths/spectrum.\n",
      "INFO: Overwriting existing wavelengths/spectrum with new wavelengths/spectrum.\n",
      "INFO: Overwriting existing wavelengths/spectrum with new wavelengths/spectrum.\n",
      "INFO: Overwriting existing wavelengths/spectrum with new wavelengths/spectrum.\n",
      "INFO: Overwriting existing wavelengths/spectrum with new wavelengths/spectrum.\n",
      "INFO: Overwriting existing wavelengths/spectrum with new wavelengths/spectrum.\n"
     ]
    },
    {
     "data": {
      "text/html": [
       "<div>\n",
       "<style scoped>\n",
       "    .dataframe tbody tr th:only-of-type {\n",
       "        vertical-align: middle;\n",
       "    }\n",
       "\n",
       "    .dataframe tbody tr th {\n",
       "        vertical-align: top;\n",
       "    }\n",
       "\n",
       "    .dataframe thead th {\n",
       "        text-align: right;\n",
       "    }\n",
       "</style>\n",
       "<table border=\"1\" class=\"dataframe\">\n",
       "  <thead>\n",
       "    <tr style=\"text-align: right;\">\n",
       "      <th></th>\n",
       "      <th>3000</th>\n",
       "      <th>4000</th>\n",
       "      <th>5000</th>\n",
       "      <th>7000</th>\n",
       "      <th>10000</th>\n",
       "      <th>15000</th>\n",
       "      <th>20000</th>\n",
       "      <th>30000</th>\n",
       "      <th>40000</th>\n",
       "      <th>50000</th>\n",
       "    </tr>\n",
       "  </thead>\n",
       "  <tbody>\n",
       "    <tr>\n",
       "      <th>uv</th>\n",
       "      <td>2.993948e+00</td>\n",
       "      <td>3.637762e-01</td>\n",
       "      <td>1.005594e-01</td>\n",
       "      <td>2.210276e-02</td>\n",
       "      <td>6.771711e-03</td>\n",
       "      <td>2.650691e-03</td>\n",
       "      <td>1.672792e-03</td>\n",
       "      <td>1.079639e-03</td>\n",
       "      <td>8.799739e-04</td>\n",
       "      <td>7.832349e-04</td>\n",
       "    </tr>\n",
       "    <tr>\n",
       "      <th>u</th>\n",
       "      <td>1.800051e-05</td>\n",
       "      <td>6.234715e-06</td>\n",
       "      <td>3.240357e-06</td>\n",
       "      <td>1.515118e-06</td>\n",
       "      <td>8.616019e-07</td>\n",
       "      <td>5.686044e-07</td>\n",
       "      <td>4.693222e-07</td>\n",
       "      <td>3.934773e-07</td>\n",
       "      <td>3.628285e-07</td>\n",
       "      <td>3.464603e-07</td>\n",
       "    </tr>\n",
       "    <tr>\n",
       "      <th>g</th>\n",
       "      <td>1.612818e-11</td>\n",
       "      <td>1.120794e-11</td>\n",
       "      <td>8.845189e-12</td>\n",
       "      <td>6.659134e-12</td>\n",
       "      <td>5.374314e-12</td>\n",
       "      <td>4.585031e-12</td>\n",
       "      <td>4.258533e-12</td>\n",
       "      <td>3.976177e-12</td>\n",
       "      <td>3.851018e-12</td>\n",
       "      <td>3.780887e-12</td>\n",
       "    </tr>\n",
       "  </tbody>\n",
       "</table>\n",
       "</div>"
      ],
      "text/plain": [
       "           3000          4000          5000          7000          10000  \\\n",
       "uv  2.993948e+00  3.637762e-01  1.005594e-01  2.210276e-02  6.771711e-03   \n",
       "u   1.800051e-05  6.234715e-06  3.240357e-06  1.515118e-06  8.616019e-07   \n",
       "g   1.612818e-11  1.120794e-11  8.845189e-12  6.659134e-12  5.374314e-12   \n",
       "\n",
       "           15000         20000         30000         40000         50000  \n",
       "uv  2.650691e-03  1.672792e-03  1.079639e-03  8.799739e-04  7.832349e-04  \n",
       "u   5.686044e-07  4.693222e-07  3.934773e-07  3.628285e-07  3.464603e-07  \n",
       "g   4.585031e-12  4.258533e-12  3.976177e-12  3.851018e-12  3.780887e-12  "
      ]
     },
     "metadata": {},
     "output_type": "display_data"
    }
   ],
   "source": [
    "importlib.reload(src)\n",
    "importlib.reload(phot)\n",
    "#\n",
    "# Define telescope instance\n",
    "#\n",
    "MyTelescope = Telescope(px_scale=0.1 * u.arcsec)\n",
    "#\n",
    "# Generate background object\n",
    "#\n",
    "# MyBackground = Background(mags_per_sq_arcsec=background_values.SKY_BACKGROUND)\n",
    "MyBackground = Background()\n",
    "#\n",
    "# Create source\n",
    "#\n",
    "MySource = src.PointSource(src.Profiles.uniform(), angle=0.1 * u.arcsec)\n",
    "wavelengths = np.arange(0.1, 1.2, 0.001) * u.um\n",
    "bb_temps = [3000, 4000, 5000, 7000, 10000, 15000, 20000, 30000, 40000, 50000]  # kelvin\n",
    "redleak_fracs = dict.fromkeys(bb_temps)\n",
    "for temp in bb_temps:\n",
    "    MySource.generate_bb(temp, overwrite=True)  # (in erg/s/cm^2/A)\n",
    "    MyPhot = phot.Photometry(MyTelescope, MySource, MyBackground)\n",
    "    MyPhot.use_optimal_aperture(quiet=True)\n",
    "    redleak_fracs[temp] = MyPhot.calc_snr_or_t(snr=5)  # now no longer returns the redleak fraction. Just for debugging\n",
    "display(pd.DataFrame(redleak_fracs))"
   ]
  },
  {
   "cell_type": "markdown",
   "metadata": {},
   "source": [
    "## Uniform Spectrum & No Redleak\n"
   ]
  },
  {
   "cell_type": "markdown",
   "metadata": {},
   "source": [
    "When normalizing a spectrum so that it has a given flux density or magnitude within a\n",
    "certain passband, I sum the flux within that passband and normalize so that this total\n",
    "flux is equal to the given value... This does NOT seem to produce correct SNRs/times if I\n",
    "use the passband response curves to convert the spectra to electron/s.\n",
    "\n",
    "(Compare with the code cell below the next markdown cell)\n"
   ]
  },
  {
   "cell_type": "code",
   "execution_count": 61,
   "metadata": {},
   "outputs": [
    {
     "data": {
      "application/vnd.jupyter.widget-view+json": {
       "model_id": "72a0bd8a3aca4bc58d24ee7cbb88dace",
       "version_major": 2,
       "version_minor": 0
      },
      "text/plain": [
       "Canvas(toolbar=Toolbar(toolitems=[('Home', 'Reset original view', 'home', 'home'), ('Back', 'Back to previous …"
      ]
     },
     "metadata": {},
     "output_type": "display_data"
    },
    {
     "name": "stderr",
     "output_type": "stream",
     "text": [
      "/arc/home/IsaacCheng/CASTOR/ETC/notebooks/../castor_etc/photometry.py:619: RuntimeWarning: Chosen a/b is smaller than the 'ideal' aperture size for this source! a & b should be at least 0.105 arcsec.\n",
      "  warnings.warn(\n"
     ]
    },
    {
     "data": {
      "application/vnd.jupyter.widget-view+json": {
       "model_id": "feb9aa05ecfa4c4b94174827b8d0b7bf",
       "version_major": 2,
       "version_minor": 0
      },
      "text/plain": [
       "Canvas(toolbar=Toolbar(toolitems=[('Home', 'Reset original view', 'home', 'home'), ('Back', 'Back to previous …"
      ]
     },
     "metadata": {},
     "output_type": "display_data"
    }
   ],
   "source": [
    "importlib.reload(src)\n",
    "importlib.reload(phot)\n",
    "\n",
    "%matplotlib widget\n",
    "\n",
    "#\n",
    "# Define telescope instance\n",
    "#\n",
    "MyTelescope = Telescope(px_scale=0.1 * u.arcsec)\n",
    "# \n",
    "# Generate background object\n",
    "# \n",
    "# MyBackground = Background(mags_per_sq_arcsec=background_values.SKY_BACKGROUND)\n",
    "MyBackground = Background()\n",
    "MyBackground.add_geocoronal_emission(flux=\"avg\")\n",
    "# \n",
    "# Create source\n",
    "#\n",
    "# MySource = src.PointSource(\n",
    "#     src.Profiles.ellipse(a0=0.5 * u.arcsec, b0=0.2 * u.arcsec, angle=45), angle=1 * u.arcsec\n",
    "# )\n",
    "MySource = src.PointSource(src.Profiles.uniform(), angle=0.1 * u.arcsec)\n",
    "wavelengths = np.arange(0.1, 1.2, 0.001) * u.um\n",
    "MySource.generate_uniform(wavelengths=wavelengths, value=1.0)  # (in erg/s/cm^2/A)\n",
    "\n",
    "fig, ax = plt.subplots()\n",
    "ax.plot(MySource.wavelengths.value, MySource.spectrum, \"k\")\n",
    "ax.fill_between(MySource.wavelengths.value, MySource.spectrum, alpha=0.5)\n",
    "ax.set_xlabel(\"Wavelength [\\AA]\")\n",
    "ax.set_ylabel(r\"Un-Normalized Flux Density [$\\rm erg\\, s^{-1}\\, cm^{-2}\\,$\\AA$^{-1}$]\")\n",
    "ax.set_ylim(bottom=0)\n",
    "plt.show()\n",
    "\n",
    "# MySource.norm_to_value(\n",
    "#     22.0,\n",
    "#     \"mag\",\n",
    "#     passband_lims=MyTelescope.passband_limits[\"u\"],\n",
    "#     pivot_wavelength=MyTelescope.passband_pivots[\"u\"],\n",
    "# )\n",
    "# fig, ax = plt.subplots()\n",
    "# ax.plot(MySource.wavelengths.value, MySource.spectrum, \"k\")\n",
    "# ax.fill_between(MySource.wavelengths.value, MySource.spectrum, alpha=0.5)\n",
    "# ax.set_xlabel(\"Wavelength [\\AA]\")\n",
    "# ax.set_ylabel(r\"Flux Density [$\\rm erg\\, s^{-1}\\, cm^{-2}\\,$\\AA$^{-1}$]\")\n",
    "# ax.set_ylim(bottom=0)\n",
    "# plt.show()\n",
    "\n",
    "MyPhot = phot.Photometry(MyTelescope, MySource, MyBackground)\n",
    "MyPhot.use_elliptical_aperture(a=0.1 * u.arcsec, b=0.4 * u.arcsec, center=[0, 0.1] << u.arcsec, rotation=20)\n",
    "# MyPhot.use_rectangular_aperture(width=2 * u.arcsec, length=1 * u.arcsec, center=[0, 4] << u.arcsec, weight_res=0.01)\n",
    "# MyPhot.use_rectangular_aperture(width=2 * u.arcsec, length=1 * u.arcsec, center=[0.5, 0] << u.arcsec)\n",
    "# MyPhot.use_optimal_aperture(factor=1.4)\n",
    "# MyPhot.source_weights[np.isnan(MyPhot.source_weights)] = 1\n",
    "MyPhot.show_source_weights(mark_source=True, source_markersize=4)"
   ]
  },
  {
   "cell_type": "code",
   "execution_count": 59,
   "metadata": {},
   "outputs": [
    {
     "name": "stdout",
     "output_type": "stream",
     "text": [
      "RESULTS for uv-band 3.7439838495210287\n",
      "\n",
      "RESULTS for u-band 3.5868688693588586\n",
      "\n",
      "RESULTS for g-band 2.848482112683075\n",
      "\n",
      "RESULTS for uv-band 5.0\n",
      "\n",
      "RESULTS for u-band 5.0\n",
      "\n",
      "RESULTS for g-band 5.0\n",
      "\n"
     ]
    }
   ],
   "source": [
    "importlib.reload(phot)\n",
    "results_per_band = dict.fromkeys(MyTelescope.passbands)\n",
    "for band in MyTelescope.passbands:\n",
    "    MySource.norm_to_value(\n",
    "        22.0,\n",
    "        \"mag\",\n",
    "        passband_lims=MyTelescope.passband_limits[band],\n",
    "        pivot_wavelength=MyTelescope.passband_pivots[band],\n",
    "    )\n",
    "    MyPhot = phot.Photometry(MyTelescope, MySource, MyBackground)\n",
    "    MyPhot.use_optimal_aperture(quiet=True)\n",
    "    results = MyPhot.calc_snr_or_t(snr=5, include_redleak=False)\n",
    "    results_per_band[band] = results[band]\n",
    "    # results = MyPhot.calc_snr_or_t(t=4.343751, include_redleak=False)\n",
    "    print(f\"RESULTS for {band}-band\", results[band])\n",
    "    print()\n",
    "for band in MyTelescope.passbands:\n",
    "    MySource.norm_to_value(\n",
    "        22.0,\n",
    "        \"mag\",\n",
    "        passband_lims=MyTelescope.passband_limits[band],\n",
    "        pivot_wavelength=MyTelescope.passband_pivots[band],\n",
    "    )\n",
    "    MyPhot = phot.Photometry(MyTelescope, MySource, MyBackground)\n",
    "    MyPhot.use_optimal_aperture(quiet=True)\n",
    "    # results = MyPhot.calc_snr_or_t(snr=5, include_redleak=False)\n",
    "    results = MyPhot.calc_snr_or_t(t=results_per_band[band], include_redleak=False)\n",
    "    print(f\"RESULTS for {band}-band\", results[band])\n",
    "    print()\n"
   ]
  },
  {
   "cell_type": "markdown",
   "metadata": {},
   "source": [
    "The following cell used the total flux in the passband + photometric zero-points to\n",
    "convert flam to electron/s. This is the correct (expected) behaviour...\n",
    "  "
   ]
  },
  {
   "cell_type": "code",
   "execution_count": 3,
   "metadata": {},
   "outputs": [
    {
     "name": "stdout",
     "output_type": "stream",
     "text": [
      "{'uv': 24.463, 'u': 24.511, 'g': 24.766}\n",
      "{'uv': <Quantity 0.22047495 um>, 'u': <Quantity 0.34375662 um>, 'g': <Quantity 0.47077832 um>}\n",
      "{'uv': <Quantity 3880. Angstrom>, 'u': <Quantity 4730. Angstrom>, 'g': <Quantity 5660. Angstrom>}\n",
      "10990.000000000007\n"
     ]
    },
    {
     "data": {
      "image/png": "[encoded data removed]",
      "text/plain": [
       "<Figure size 432x288 with 1 Axes>"
      ]
     },
     "metadata": {
      "needs_background": "light"
     },
     "output_type": "display_data"
    },
    {
     "data": {
      "image/png": "[encoded data removed]",
      "text/plain": [
       "<Figure size 432x288 with 2 Axes>"
      ]
     },
     "metadata": {
      "needs_background": "light"
     },
     "output_type": "display_data"
    },
    {
     "name": "stdout",
     "output_type": "stream",
     "text": [
      "RESULTS for uv-band 10.646077955326872\n",
      "\n",
      "RESULTS for u-band 3.3695991837660824\n",
      "\n",
      "RESULTS for g-band 2.6807393517220843\n",
      "\n"
     ]
    }
   ],
   "source": [
    "importlib.reload(src)\n",
    "importlib.reload(phot)\n",
    "\n",
    "%matplotlib inline\n",
    "#\n",
    "# Define telescope instance\n",
    "#\n",
    "# MyTelescope = Telescope(px_scale=0.1 * u.arcsec, phot_zpts=params.PHOT_ZPTS, passband_pivots=params.PASSBAND_PIVOTS)\n",
    "MyTelescope = Telescope(px_scale=0.1 * u.arcsec, phot_zpts=None, passband_pivots=None)\n",
    "print(MyTelescope.phot_zpts)\n",
    "print(MyTelescope.passband_pivots)\n",
    "print(MyTelescope.redleak_thresholds)\n",
    "print(MyTelescope.full_passband_curves['uv']['wavelength'][-1].to(u.AA).value)\n",
    "# \n",
    "# Generate background object\n",
    "# \n",
    "MyBackground = Background(mags_per_sq_arcsec=background_values.SKY_BACKGROUND)\n",
    "MyBackground.add_geocoronal_emission(flux=\"avg\")\n",
    "# \n",
    "# Create source\n",
    "#\n",
    "# MySource = src.PointSource(\n",
    "#     src.Profiles.ellipse(a0=0.5 * u.arcsec, b0=0.2 * u.arcsec, angle=45), angle=1 * u.arcsec\n",
    "# )\n",
    "MySource = src.PointSource(src.Profiles.uniform(), angle=0.1 * u.arcsec)\n",
    "wavelengths = np.arange(0.1, 1.2, 0.001) * u.um\n",
    "# MySource.generate_uniform(wavelengths=wavelengths, value=1.0)  # (in erg/s/cm^2/A)\n",
    "MySource.generate_bb(3000)  # (in erg/s/cm^2/A)\n",
    "\n",
    "fig, ax = plt.subplots()\n",
    "ax.plot(MySource.wavelengths.value, MySource.spectrum, \"k\")\n",
    "ax.fill_between(MySource.wavelengths.value, MySource.spectrum, alpha=0.5)\n",
    "ax.set_xlabel(\"Wavelength [\\AA]\")\n",
    "ax.set_ylabel(r\"Un-Normalized Flux Density [$\\rm erg\\, s^{-1}\\, cm^{-2}\\,$\\AA$^{-1}$]\")\n",
    "ax.set_ylim(bottom=0)\n",
    "plt.show()\n",
    "\n",
    "_show_weights = True\n",
    "for band in MyTelescope.passbands:\n",
    "    MySource.norm_to_value(\n",
    "        22.0,\n",
    "        \"mag\",\n",
    "        passband_lims=MyTelescope.passband_limits[band],\n",
    "        pivot_wavelength=MyTelescope.passband_pivots[band],\n",
    "    )\n",
    "    MyPhot = phot.Photometry(MyTelescope, MySource, MyBackground)\n",
    "    # MyPhot.use_rectangular_aperture(width=0.8 * u.arcsec, length=1* u.arcsec, center=[0, 0] << u.arcsec)\n",
    "    MyPhot.use_optimal_aperture(quiet=True)\n",
    "    if _show_weights:\n",
    "        MyPhot.show_source_weights(mark_source=True, source_markersize=4)\n",
    "        _show_weights = False  # only display once\n",
    "    results = MyPhot.calc_snr_or_t(snr=5, include_redleak=True)\n",
    "    # results = MyPhot.calc_snr_or_t(t=4.343751, include_redleak=False)\n",
    "    # Notice g-band will eventually take the longest to reach a given SNR. This is correct\n",
    "    print(f\"RESULTS for {band}-band\", results[band])\n",
    "    print()\n"
   ]
  },
  {
   "cell_type": "markdown",
   "metadata": {},
   "source": [
    "## Blackbody Spectrum\n"
   ]
  },
  {
   "cell_type": "code",
   "execution_count": 2,
   "metadata": {},
   "outputs": [
    {
     "data": {
      "application/vnd.jupyter.widget-view+json": {
       "model_id": "2765fa70ce82457db5bf0d7dca0f746b",
       "version_major": 2,
       "version_minor": 0
      },
      "text/plain": [
       "Canvas(toolbar=Toolbar(toolitems=[('Home', 'Reset original view', 'home', 'home'), ('Back', 'Back to previous …"
      ]
     },
     "metadata": {},
     "output_type": "display_data"
    },
    {
     "name": "stdout",
     "output_type": "stream",
     "text": [
      "INFO: Source's semimajor axis (a) or radius subtends angle < 1/2 of the FWHM of the telescope's PSF. Using 1/2 of FWHM instead.\n",
      "INFO: Source's semiminor axis (b) or radius subtends angle < 1/2 of the FWHM of the telescope's PSF. Using 1/2 of FWHM instead.\n"
     ]
    },
    {
     "data": {
      "application/vnd.jupyter.widget-view+json": {
       "model_id": "2e159837060247d7967bacab54abf116",
       "version_major": 2,
       "version_minor": 0
      },
      "text/plain": [
       "Canvas(toolbar=Toolbar(toolitems=[('Home', 'Reset original view', 'home', 'home'), ('Back', 'Back to previous …"
      ]
     },
     "metadata": {},
     "output_type": "display_data"
    }
   ],
   "source": [
    "importlib.reload(src)\n",
    "importlib.reload(phot)\n",
    "\n",
    "%matplotlib widget\n",
    "\n",
    "#\n",
    "# Define telescope instance\n",
    "#\n",
    "MyTelescope = Telescope(px_scale=0.1 * u.arcsec)\n",
    "# \n",
    "# Generate background object\n",
    "# \n",
    "MyBackground = Background()\n",
    "MyBackground.add_geocoronal_emission()\n",
    "#\n",
    "# Create source\n",
    "#\n",
    "# MySource = src.PointSource(\n",
    "#     src.Profiles.ellipse(a0=0.5 * u.arcsec, b0=0.2 * u.arcsec, angle=45), angle=1 * u.arcsec\n",
    "# )\n",
    "MySource = src.PointSource(src.Profiles.uniform(), angle=0.1 * u.arcsec)\n",
    "MySource.generate_bb(5500 * u.K, redshift=0, radius=1, dist=1 * u.kpc)\n",
    "# (spectrum is in erg/s/cm^2/A)\n",
    "MySource.norm_to_value(\n",
    "    22.0,\n",
    "    \"mag\",\n",
    "    passband_lims=MyTelescope.passband_limits[\"u\"],\n",
    "    pivot_wavelength=MyTelescope.passband_pivots[\"u\"],\n",
    ")\n",
    "fig, ax = plt.subplots()\n",
    "ax.plot(MySource.wavelengths, MySource.spectrum)\n",
    "plt.show()\n",
    "\n",
    "MyPhot = phot.Photometry(MyTelescope, MySource, MyBackground)\n",
    "# MyPhot.use_elliptical_aperture(a=0.4 * u.arcsec, b=0.4 * u.arcsec, center=[0, 0.1] << u.arcsec)\n",
    "# MyPhot.use_rectangular_aperture(width=2 * u.arcsec, length=1 * u.arcsec, center=[0, 4] << u.arcsec, weight_res=0.01)\n",
    "# MyPhot.use_rectangular_aperture(width=2 * u.arcsec, length=1 * u.arcsec, center=[0.5, 0] << u.arcsec)\n",
    "MyPhot.use_optimal_aperture()\n",
    "MyPhot.show_source_weights(mark_source=True, source_markersize=4)"
   ]
  },
  {
   "cell_type": "code",
   "execution_count": 3,
   "metadata": {},
   "outputs": [
    {
     "name": "stdout",
     "output_type": "stream",
     "text": [
      "uv\n",
      "redleak flux uv 1.2449880644527248e-17\n",
      "redleak flux u 1.0645377892165522e-17\n",
      "redleak flux g 8.447273397186188e-18\n",
      "source_erate uv 0.31192375381533727\n",
      "redleak flux fraction uv 27.64611876187363\n",
      "source_erate u 3.676073988715039\n",
      "redleak flux fraction u 7.273033379815641\n",
      "source_erate g 17.44550879999241\n",
      "redleak flux fraction g 2.489942139524642\n",
      "uv 8.623481142628247\n",
      "u 26.736208826596503\n",
      "g 43.43830750654907\n"
     ]
    },
    {
     "data": {
      "text/plain": [
       "{'uv': 130.94829668639827, 'u': 17.162573477135947, 'g': 3.659294923352023}"
      ]
     },
     "execution_count": 3,
     "metadata": {},
     "output_type": "execute_result"
    }
   ],
   "source": [
    "results = MyPhot.calc_snr_or_t(snr=3)\n",
    "# for band in MyPhot.redleaks:\n",
    "#     print(band, np.nansum(MyPhot.redleaks[band]))\n",
    "results"
   ]
  },
  {
   "cell_type": "markdown",
   "metadata": {},
   "source": [
    "## Misc Testing (will remove later)\n"
   ]
  },
  {
   "cell_type": "code",
   "execution_count": null,
   "metadata": {},
   "outputs": [],
   "source": [
    "importlib.reload(src)\n",
    "importlib.reload(phot)\n",
    "\n",
    "%matplotlib widget\n",
    "\n",
    "#\n",
    "# Define telescope instance\n",
    "#\n",
    "MyTelescope = Telescope(px_scale=0.1 * u.arcsec)\n",
    "# \n",
    "# Generate background object\n",
    "# \n",
    "MyBackground = Background()\n",
    "MyBackground.add_geocoronal_emission()\n",
    "MyBackground.calc_sky_background_mags(MyTelescope)\n",
    "MyBackground.sky_background_mags"
   ]
  },
  {
   "cell_type": "code",
   "execution_count": 58,
   "metadata": {},
   "outputs": [
    {
     "data": {
      "application/vnd.jupyter.widget-view+json": {
       "model_id": "c75229560e3f41399581a0a3dca45568",
       "version_major": 2,
       "version_minor": 0
      },
      "text/plain": [
       "Canvas(toolbar=Toolbar(toolitems=[('Home', 'Reset original view', 'home', 'home'), ('Back', 'Back to previous …"
      ]
     },
     "metadata": {},
     "output_type": "display_data"
    },
    {
     "name": "stderr",
     "output_type": "stream",
     "text": [
      "/tmp/ipykernel_5494/1703140273.py:74: MatplotlibDeprecationWarning: Auto-removal of grids by pcolor() and pcolormesh() is deprecated since 3.5 and will be removed two minor releases later; please call grid(False) first.\n",
      "  fig.colorbar(img)\n"
     ]
    }
   ],
   "source": [
    "def _rotate_ccw(x, y, theta, origin=(0, 0)):\n",
    "    \"\"\"\n",
    "    Rotate a point/array counter-clockwise by theta degrees about the origin. Theta starts\n",
    "    at zero on the positive x-axis (right) and increases toward the positive y-axis (up).\n",
    "\n",
    "    Parameters\n",
    "    ----------\n",
    "      x, y :: float or array-like\n",
    "        The x- and y-coordinates of the point/array to rotate.\n",
    "\n",
    "      theta :: float or array-like\n",
    "        The angle of rotation in degrees.\n",
    "\n",
    "      origin :: 2-tuple of floats or array-like with shape (2, shape(x)) (optional)\n",
    "        The point about which to rotate. Default is (0, 0). If x and y are arrays, this\n",
    "        should be a 2D array where the first index (row) is the x-coordinate origin and\n",
    "        the second index (column) is the y-coordinate of the origin.\n",
    "\n",
    "    Returns\n",
    "    -------\n",
    "      x_rot, y_rot :: float or array-like\n",
    "        The rotated x- and y-coordinates of the point/array.\n",
    "    \"\"\"\n",
    "    theta = np.deg2rad(theta)\n",
    "    xnew = x - origin[0]\n",
    "    ynew = y - origin[1]\n",
    "    xnew2 = np.cos(theta) * xnew - np.sin(theta) * ynew\n",
    "    ynew2 = np.sin(theta) * xnew + np.cos(theta) * ynew\n",
    "    x_rot = xnew2 + origin[0]\n",
    "    y_rot = ynew2 + origin[1]\n",
    "    return x_rot, y_rot\n",
    "\n",
    "\n",
    "def _rotate_cw(x, y, theta, origin=(0, 0)):\n",
    "    \"\"\"\n",
    "    Rotate a point/array clockwise by theta degrees about the origin. Theta starts at zero\n",
    "    on the positive x-axis (right) and increases toward the negative y-axis (down).\n",
    "\n",
    "    Parameters\n",
    "    ----------\n",
    "      x, y :: float or array-like\n",
    "        The x- and y-coordinates of the point/array to rotate.\n",
    "\n",
    "      theta :: float or array-like\n",
    "        The angle of rotation in degrees.\n",
    "\n",
    "      origin :: 2-tuple of floats or array-like with shape (2, shape(x)) (optional)\n",
    "        The point about which to rotate. Default is (0, 0). If x and y are arrays, this\n",
    "        should be a 2D array where the first index (row) is the x-coordinate origin and\n",
    "        the second index (column) is the y-coordinate of the origin.\n",
    "\n",
    "    Returns\n",
    "    -------\n",
    "      x_rot, y_rot :: float or array-like\n",
    "        The rotated x- and y-coordinates of the point/array.\n",
    "    \"\"\"\n",
    "    theta = np.deg2rad(theta)\n",
    "    xnew = x - origin[0]\n",
    "    ynew = y - origin[1]\n",
    "    xnew2 = np.cos(theta) * xnew + np.sin(theta) * ynew\n",
    "    ynew2 = -np.sin(theta) * xnew + np.cos(theta) * ynew\n",
    "    x_rot = xnew2 + origin[0]\n",
    "    y_rot = ynew2 + origin[1]\n",
    "    return x_rot, y_rot\n",
    "\n",
    "plt.close(\"all\")\n",
    "\n",
    "my_xs, my_ys = np.meshgrid(np.arange(-10, 11, 1), np.arange(-10, 11, 1), indexing=\"xy\")\n",
    "my_xs, my_ys = _rotate_ccw(my_xs, my_ys, -45, origin=[0, 0])\n",
    "\n",
    "fig, ax = plt.subplots()\n",
    "img = ax.imshow(my_ys, origin=\"lower\")\n",
    "# img = ax.imshow(my_ys.T, origin=\"lower\")\n",
    "fig.colorbar(img)\n",
    "plt.show()"
   ]
  },
  {
   "cell_type": "code",
   "execution_count": 46,
   "metadata": {},
   "outputs": [
    {
     "data": {
      "text/plain": [
       "array([[-1.  , -1.  , -1.  , ..., -1.  , -1.  , -1.  ],\n",
       "       [-0.97, -0.97, -0.97, ..., -0.97, -0.97, -0.97],\n",
       "       [-0.94, -0.94, -0.94, ..., -0.94, -0.94, -0.94],\n",
       "       ...,\n",
       "       [ 0.95,  0.95,  0.95, ...,  0.95,  0.95,  0.95],\n",
       "       [ 0.98,  0.98,  0.98, ...,  0.98,  0.98,  0.98],\n",
       "       [ 1.01,  1.01,  1.01, ...,  1.01,  1.01,  1.01]])"
      ]
     },
     "execution_count": 46,
     "metadata": {},
     "output_type": "execute_result"
    }
   ],
   "source": [
    "my_ys"
   ]
  },
  {
   "cell_type": "code",
   "execution_count": 9,
   "metadata": {},
   "outputs": [
    {
     "data": {
      "application/vnd.jupyter.widget-view+json": {
       "model_id": "5e8bd288a11544e18ae59832b4294782",
       "version_major": 2,
       "version_minor": 0
      },
      "text/plain": [
       "Canvas(toolbar=Toolbar(toolitems=[('Home', 'Reset original view', 'home', 'home'), ('Back', 'Back to previous …"
      ]
     },
     "metadata": {},
     "output_type": "display_data"
    }
   ],
   "source": [
    "# %matplotlib widget\n",
    "# importlib.reload(phot)\n",
    "# MyPhot = phot.Photometry(MyTelescope, MySource, MyBackground)\n",
    "# # MyPhot.use_elliptical_aperture(a=1.4 * 0.4 * u.arcsec, b=1.4 * 0.2 * u.arcsec, center=[0, 0] << u.arcsec)\n",
    "# # MyPhot.use_rectangular_aperture(width=2 * u.arcsec, length=1 * u.arcsec, center=[0, 4] << u.arcsec, weight_res=0.01)\n",
    "# MyPhot.use_rectangular_aperture(width=1 * u.arcsec, length=1 * u.arcsec, center=[0, 0] << u.arcsec, weight_res=0.01)\n",
    "# MyPhot.show_source_weights(mark_center=False, center_markersize=4)"
   ]
  },
  {
   "cell_type": "code",
   "execution_count": null,
   "metadata": {},
   "outputs": [],
   "source": []
  }
 ],
 "metadata": {
  "interpreter": {
   "hash": "b2c4d6c192b9f8c722057ba9cce441587fedb0afbceeb07e734ab7f6dd3a513b"
  },
  "kernelspec": {
   "display_name": "Python 3.9.7 ('base')",
   "language": "python",
   "name": "python3"
  },
  "language_info": {
   "codemirror_mode": {
    "name": "ipython",
    "version": 3
   },
   "file_extension": ".py",
   "mimetype": "text/x-python",
   "name": "python",
   "nbconvert_exporter": "python",
   "pygments_lexer": "ipython3",
   "version": "3.9.7"
  },
  "orig_nbformat": 4
 },
 "nbformat": 4,
 "nbformat_minor": 2
}
