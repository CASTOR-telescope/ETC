{
 "cells": [
  {
   "cell_type": "markdown",
   "metadata": {},
   "source": [
    "# Visualizing the sky background noise\n",
    "\n",
    "Sky background (Earthshine + zodiacal light) data from\n",
    "[pysynphot](https://github.com/spacetelescope/pysynphot/tree/925cdbac35a7851cee1bddaa2b47651235c44851/pysynphot/data/generic)\n"
   ]
  },
  {
   "cell_type": "code",
   "execution_count": 1,
   "metadata": {},
   "outputs": [
    {
     "name": "stdout",
     "output_type": "stream",
     "text": [
      "/arc/home/IsaacCheng/CASTOR/ETC/notebooks\n"
     ]
    }
   ],
   "source": [
    "# I only need the following line since I'm using remote VS Code\n",
    "%cd \"/arc/home/IsaacCheng/CASTOR/ETC/notebooks\"\n",
    "\n",
    "import matplotlib.pyplot as plt\n",
    "from astropy.io import fits\n",
    "from IPython.core.display import display\n",
    "\n",
    "# Import my own modules\n",
    "import sys\n",
    "sys.path.append(\"../\")\n",
    "from castor_etc import filepaths as fp\n"
   ]
  },
  {
   "cell_type": "code",
   "execution_count": 2,
   "metadata": {},
   "outputs": [
    {
     "name": "stdout",
     "output_type": "stream",
     "text": [
      "[ 1000.  1001.  1002. ... 24960. 24980. 25000.]\n",
      "[2.413579e-23 2.868297e-23 3.322108e-23 ... 6.974366e-20 6.947341e-20\n",
      " 6.969851e-20]\n",
      "[ 1000.  1001.  1002. ... 24960. 24980. 25000.]\n",
      "[4.74299600e-29 4.86987600e-29 4.99646100e-29 ... 9.88339305e-20\n",
      " 9.87173890e-20 9.88148235e-20]\n"
     ]
    }
   ],
   "source": [
    "earthshine, earthshine_header = fits.getdata(\n",
    "    fp.DATAPATH + \"background/earthshine.fits\", header=True\n",
    ")\n",
    "print(earthshine.field(0))\n",
    "print(earthshine.field(1))\n",
    "zodi, zodi_header = fits.getdata(fp.DATAPATH + \"background/zodi.fits\", header=True)\n",
    "print(zodi.field(0))\n",
    "print(zodi.field(1))\n"
   ]
  },
  {
   "cell_type": "code",
   "execution_count": 3,
   "metadata": {},
   "outputs": [
    {
     "data": {
      "text/plain": [
       "XTENSION= 'BINTABLE'           / binary table extension                         \n",
       "BITPIX  =                    8 / 8-bit bytes                                    \n",
       "NAXIS   =                    2 / 2-dimensional binary table                     \n",
       "NAXIS1  =                   12 / width of table in bytes                        \n",
       "NAXIS2  =                 4171                                                  \n",
       "PCOUNT  =                    0 / size of special data area                      \n",
       "GCOUNT  =                    1 / one data group (required keyword)              \n",
       "TFIELDS =                    2                                                  \n",
       "TTYPE1  = 'Wavelength'         / label for field   1                            \n",
       "TFORM1  = '1E      '           / data format of field: 4-byte REAL              \n",
       "TUNIT1  = 'Angstroms'          / physical unit of field                         \n",
       "TTYPE2  = 'FLUX    '           / label for field   2                            \n",
       "TFORM2  = '1D      '           / data format of field: 8-byte DOUBLE            \n",
       "TUNIT2  = 'flam    '           / physical unit of field                         \n",
       "TDISP1  = 'F9.1    '           / display format                                 \n",
       "TDISP2  = 'E13.7   '           / display format                                 \n",
       "HISTORY Created Fri 11:10:12 05-Apr-2002                                        "
      ]
     },
     "metadata": {},
     "output_type": "display_data"
    },
    {
     "name": "stdout",
     "output_type": "stream",
     "text": [
      "\n"
     ]
    },
    {
     "data": {
      "text/plain": [
       "XTENSION= 'BINTABLE'           / binary table extension                         \n",
       "BITPIX  =                    8 / 8-bit bytes                                    \n",
       "NAXIS   =                    2 / 2-dimensional binary table                     \n",
       "NAXIS1  =                   16 / width of table in bytes                        \n",
       "NAXIS2  =                 4171                                                  \n",
       "PCOUNT  =                    0 / size of special data area                      \n",
       "GCOUNT  =                    1 / one data group (required keyword)              \n",
       "TFIELDS =                    2                                                  \n",
       "TTYPE1  = 'WAVELENGTH'         / label for field   1                            \n",
       "TFORM1  = '1D      '           / data format of field: 8-byte DOUBLE            \n",
       "TUNIT1  = 'Angstroms'          / physical unit of field                         \n",
       "TTYPE2  = 'FLUX    '           / label for field   2                            \n",
       "TFORM2  = '1D      '           / data format of field: 8-byte DOUBLE            \n",
       "TUNIT2  = 'flam    '           / physical unit of field                         \n",
       "TDISP1  = 'F9.1    '           / display format                                 \n",
       "TDISP2  = 'E13.5   '           / display format                                 \n",
       "HISTORY Created Fri 14:58:52 05-Apr-2002                                        "
      ]
     },
     "metadata": {},
     "output_type": "display_data"
    }
   ],
   "source": [
    "display(earthshine_header)\n",
    "print()\n",
    "display(zodi_header)"
   ]
  },
  {
   "cell_type": "code",
   "execution_count": 4,
   "metadata": {},
   "outputs": [
    {
     "data": {
      "image/png": "[encoded data removed]",
      "text/plain": [
       "<Figure size 432x288 with 1 Axes>"
      ]
     },
     "metadata": {
      "needs_background": "light"
     },
     "output_type": "display_data"
    }
   ],
   "source": [
    "fig, ax = plt.subplots()\n",
    "ax.plot(earthshine.field(0), earthshine.field(1) * 1e17, lw=1, label=\"Earthshine\")\n",
    "ax.plot(zodi.field(0), zodi.field(1) * 1e17, lw=1, label=\"zodiacal light\")\n",
    "ax.plot(\n",
    "    earthshine.field(0),\n",
    "    (earthshine.field(1) + zodi.field(1)) * 1e17,\n",
    "    lw=1,\n",
    "    label=\"Earthshine + zodiacal light\",\n",
    ")\n",
    "ax.set_xlabel(r\"Wavelength [\\AA]\")\n",
    "ax.set_ylabel(r\"Flux $\\times 10^{-17}$ [$\\rm erg\\,s^{-1}\\,cm^2\\,$\\AA$^{-1}$]\")\n",
    "ax.legend()\n",
    "# ax.set_xlim(2000, 17000)\n",
    "ax.set_xlim(0, 25000)\n",
    "ax.set_ylim(bottom=0)\n",
    "fig.savefig(fp.OUTPATH + \"sky_background.pdf\")\n",
    "plt.show()\n"
   ]
  }
 ],
 "metadata": {
  "interpreter": {
   "hash": "b2c4d6c192b9f8c722057ba9cce441587fedb0afbceeb07e734ab7f6dd3a513b"
  },
  "kernelspec": {
   "display_name": "Python 3.9.7 64-bit ('base': conda)",
   "language": "python",
   "name": "python3"
  },
  "language_info": {
   "codemirror_mode": {
    "name": "ipython",
    "version": 3
   },
   "file_extension": ".py",
   "mimetype": "text/x-python",
   "name": "python",
   "nbconvert_exporter": "python",
   "pygments_lexer": "ipython3",
   "version": "3.9.7"
  },
  "orig_nbformat": 4
 },
 "nbformat": 4,
 "nbformat_minor": 2
}
